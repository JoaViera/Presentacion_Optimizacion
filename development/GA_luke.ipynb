{
  "cells": [
    {
      "cell_type": "code",
      "execution_count": 1,
      "metadata": {},
      "outputs": [],
      "source": [
        "using Random\n",
        "using Distributions"
      ]
    },
    {
      "cell_type": "markdown",
      "metadata": {
        "id": "RxG1mARnsR3O"
      },
      "source": [
        "## Funciones Auxiliares"
      ]
    },
    {
      "cell_type": "code",
      "execution_count": 2,
      "metadata": {
        "id": "-UvHVuVEsR3P"
      },
      "outputs": [],
      "source": []
    },
    {
      "cell_type": "markdown",
      "metadata": {
        "id": "Fyn5hcpXsR3Q"
      },
      "source": [
        "## Funciones de Mutacion"
      ]
    },
    {
      "cell_type": "code",
      "execution_count": 3,
      "metadata": {
        "colab": {
          "base_uri": "https://localhost:8080/",
          "height": 106
        },
        "id": "iFavLYlnsR3Q",
        "outputId": "12d5a2f2-0a67-48ea-d702-657b9bbe445f"
      },
      "outputs": [
        {
          "data": {
            "text/plain": [
              "bit_flip_mutation (generic function with 1 method)"
            ]
          },
          "metadata": {},
          "output_type": "display_data"
        }
      ],
      "source": [
        "# testeado\n",
        "# funciona para vectores booleanos\n",
        "function bit_flip_mutation(v, p)\n",
        "    l = length(v)\n",
        "    for i in 1:l\n",
        "        if p >= rand()\n",
        "            v[i] = 1-v[i]\n",
        "        end\n",
        "    end\n",
        "    return v\n",
        "end"
      ]
    },
    {
      "cell_type": "code",
      "execution_count": 4,
      "metadata": {},
      "outputs": [
        {
          "data": {
            "text/plain": [
              "gaussian_convolution (generic function with 1 method)"
            ]
          },
          "metadata": {},
          "output_type": "display_data"
        }
      ],
      "source": [
        "# testeado\n",
        "# funciona para vectores floats\n",
        "function gaussian_convolution(v, p, σ2, δ)\n",
        "    dist = Normal(0, σ2)\n",
        "    l = length(v)\n",
        "    min_v = v .- δ\n",
        "    max_v = v .+ δ\n",
        "    for i in 1:l\n",
        "        if p >= rand()\n",
        "            n = Inf\n",
        "            while !(min_v[i] <= v[i]+n && v[i] + n <= max_v[i])\n",
        "                n = rand(dist)\n",
        "            end\n",
        "            v[i] = v[i] + n\n",
        "        end\n",
        "    end\n",
        "    return v\n",
        "end"
      ]
    },
    {
      "cell_type": "markdown",
      "metadata": {
        "id": "HXWGqKXisR3R"
      },
      "source": [
        "## Funciones de Crossover"
      ]
    },
    {
      "cell_type": "code",
      "execution_count": 5,
      "metadata": {
        "id": "3iTm4CALsR3R"
      },
      "outputs": [
        {
          "data": {
            "text/plain": [
              "one_point_crossover (generic function with 1 method)"
            ]
          },
          "metadata": {},
          "output_type": "display_data"
        }
      ],
      "source": [
        "# testeado\n",
        "function one_point_crossover(v, w)\n",
        "    l = length(v)\n",
        "    c = rand(1:l)\n",
        "    for i in c:l\n",
        "        # hago swap\n",
        "        temp = v[i]\n",
        "        v[i] = w[i]\n",
        "        w[i] = temp\n",
        "    end\n",
        "    return v, w\n",
        "end"
      ]
    },
    {
      "cell_type": "code",
      "execution_count": 6,
      "metadata": {
        "id": "dcUhCGW_sR3S"
      },
      "outputs": [
        {
          "data": {
            "text/plain": [
              "two_point_crossover (generic function with 1 method)"
            ]
          },
          "metadata": {},
          "output_type": "display_data"
        }
      ],
      "source": [
        "# testeado\n",
        "function two_point_crossover(v, w)\n",
        "    l = length(v)\n",
        "    c = rand(1:l)\n",
        "    d = rand(1:l)\n",
        "    if c > d\n",
        "        # hago swap\n",
        "        temp = c\n",
        "        c = d\n",
        "        d = temp\n",
        "    end\n",
        "    for i in c:d-1\n",
        "        # hago swap\n",
        "        temp = v[i]\n",
        "        v[i] = w[i]\n",
        "        w[i] = temp\n",
        "    end\n",
        "    return v, w\n",
        "end"
      ]
    },
    {
      "cell_type": "code",
      "execution_count": 7,
      "metadata": {
        "id": "Tasx6rHRsYfe"
      },
      "outputs": [
        {
          "data": {
            "text/plain": [
              "uniform_crossover (generic function with 1 method)"
            ]
          },
          "metadata": {},
          "output_type": "display_data"
        }
      ],
      "source": [
        "# testeado\n",
        "function uniform_crossover(v, w, p)\n",
        "    l = length(v)\n",
        "    for i in 1:l\n",
        "        if p>=rand()\n",
        "            # hago swap\n",
        "            temp = v[i]\n",
        "            v[i] = w[i]\n",
        "            w[i] = temp\n",
        "        end\n",
        "    end\n",
        "    return v, w\n",
        "end\n"
      ]
    },
    {
      "cell_type": "markdown",
      "metadata": {
        "id": "ggnGQk7xtL6V"
      },
      "source": [
        "Hacer crossover en la poblacion P no te deja salir de un hipercubo por lo que es necesario\n",
        "realizar la mutacion para explorar otras partes del espacio. El crossover hace que se\n",
        "esparzan los buildingblocks por la poblacion.\n",
        "Por lo general las genes no son independientes entre si, tenerlo en cuanta a la hora de\n",
        "trabajar.\n",
        "Ahora vamos a mezclar no solo dos sino varios vectores a la vez"
      ]
    },
    {
      "cell_type": "code",
      "execution_count": 8,
      "metadata": {
        "id": "9zDI6o2Mtd5U"
      },
      "outputs": [
        {
          "data": {
            "text/plain": [
              "shuffle_vector (generic function with 1 method)"
            ]
          },
          "metadata": {},
          "output_type": "display_data"
        }
      ],
      "source": [
        "# testeado\n",
        "function shuffle_vector(v)\n",
        "    l = length(v)\n",
        "    for i in 2:l\n",
        "        j = rand(1:l)\n",
        "        # hago swap\n",
        "        temp = v[i]\n",
        "        v[i] = v[j]\n",
        "        v[j] = temp\n",
        "    end\n",
        "    return v\n",
        "end"
      ]
    },
    {
      "cell_type": "code",
      "execution_count": 9,
      "metadata": {
        "id": "pL5fjvUYuHNc"
      },
      "outputs": [
        {
          "data": {
            "text/plain": [
              "uniform_crossover_K_vectors (generic function with 1 method)"
            ]
          },
          "metadata": {},
          "output_type": "display_data"
        }
      ],
      "source": [
        "# testeado\n",
        "function uniform_crossover_K_vectors(W, p) # W vectores para hacer crossover\n",
        "    l = length(W[1])\n",
        "    k = length(W)\n",
        "    v = zeros(k)\n",
        "    for i in 1:l\n",
        "        if p>=rand()\n",
        "            for j in 1:k\n",
        "                w = W[j]\n",
        "                v[j] = w[i]\n",
        "            end\n",
        "            # randomly shuffle v\n",
        "            v = shuffle_vector(v)\n",
        "            for j in 1:k\n",
        "                w = W[j]\n",
        "                w[i] = v[j]\n",
        "                W[j] = w\n",
        "            end\n",
        "        end\n",
        "    end\n",
        "    return W\n",
        "end"
      ]
    },
    {
      "cell_type": "code",
      "execution_count": 10,
      "metadata": {
        "id": "3gV5jDJIv_7S"
      },
      "outputs": [
        {
          "data": {
            "text/plain": [
              "line_recombination (generic function with 1 method)"
            ]
          },
          "metadata": {},
          "output_type": "display_data"
        }
      ],
      "source": [
        "# testeado\n",
        "function line_recombination(v, w, p)\n",
        "    l = length(v)\n",
        "    a = -p\n",
        "    b = 1+p\n",
        "    α = rand() * (b - a) + a\n",
        "    β = rand() * (b - a) + a\n",
        "    for i in 1:l\n",
        "        t = α*v[i] + (1-α)*w[i]\n",
        "        s = β*w[i] + (1-β)*v[i]\n",
        "        if true #in_bounds(t) && in_bounds(s)\n",
        "            v[i] = t\n",
        "            w[i] = s\n",
        "        end\n",
        "    end\n",
        "    return v, w\n",
        "end"
      ]
    },
    {
      "cell_type": "code",
      "execution_count": 11,
      "metadata": {
        "colab": {
          "base_uri": "https://localhost:8080/",
          "height": 106
        },
        "id": "-5KnnM46xTRQ",
        "outputId": "d22588fc-7a25-4a67-c9ad-ffc3714ff62b"
      },
      "outputs": [
        {
          "data": {
            "text/plain": [
              "intermediate_recombination (generic function with 1 method)"
            ]
          },
          "metadata": {},
          "output_type": "display_data"
        }
      ],
      "source": [
        "# testeado\n",
        "function intermediate_recombination(v, w, p)\n",
        "    l = length(v)\n",
        "    a = -p\n",
        "    b = 1+p\n",
        "    for i in 1:l\n",
        "        α = rand() * (b - a) + a\n",
        "        β = rand() * (b - a) + a\n",
        "        t = α*v[i] + (1-α)*w[i]\n",
        "        s = β*w[i] + (1-β)*v[i]\n",
        "        temp = true\n",
        "        while temp  #!(in_bounds(t) && in_bounds(s))\n",
        "            α = rand() * (b - a) + a\n",
        "            β = rand() * (b - a) + a\n",
        "            t = α*v[i] + (1-α)*w[i]\n",
        "            s = β*w[i] + (1-β)*v[i]\n",
        "            temp = false\n",
        "        end\n",
        "        v[i] = t\n",
        "        w[i] = s\n",
        "    end\n",
        "    return v, w\n",
        "end"
      ]
    },
    {
      "cell_type": "markdown",
      "metadata": {
        "id": "eVa96W7FyNtf"
      },
      "source": [
        "## Funciones de seleccion"
      ]
    },
    {
      "cell_type": "code",
      "execution_count": 12,
      "metadata": {},
      "outputs": [
        {
          "data": {
            "text/plain": [
              "fitness_proportionate_selection"
            ]
          },
          "metadata": {},
          "output_type": "display_data"
        }
      ],
      "source": [
        "# testeado\n",
        "\"\"\" precalculo que solo hace falta hacerlo una vez por generacion\n",
        "l = length(f)\n",
        "if f == ones(l)\n",
        "    f = ones(l)\n",
        "end\n",
        "for i in 2:l # convierto f en un vector distribucional\n",
        "    f[i] += f[i-1]\n",
        "end\"\"\"\n",
        "function fitness_proportionate_selection(P, f) # necesito que f>=0\n",
        "    l = length(f)\n",
        "    n = rand() * f[l]\n",
        "    for i in 2:l\n",
        "        if f[i-1] < n && n <= f[i]\n",
        "            return P[i]\n",
        "        end\n",
        "    end\n",
        "    return P[1]\n",
        "end"
      ]
    },
    {
      "cell_type": "code",
      "execution_count": 61,
      "metadata": {},
      "outputs": [
        {
          "data": {
            "text/plain": [
              "stochastic_universal_sampling (generic function with 1 method)"
            ]
          },
          "metadata": {},
          "output_type": "display_data"
        }
      ],
      "source": [
        "# testeado\n",
        "\"\"\" precalculo que solo hace falta hacerlo una vez cada n individuos seleccionados\n",
        "l = length(f)\n",
        "if f == ones(l)\n",
        "    f = ones(l)\n",
        "end\n",
        "for i in 2:l # convierto f en un vector distribucional\n",
        "    f[i] += f[i-1]\n",
        "end\n",
        "value = rand() * f[l]/n\n",
        "i = 1\n",
        "\"\"\"\n",
        "function stochastic_universal_sampling(P, f, n, value, i)\n",
        "    while f[i] < value\n",
        "        i += 1\n",
        "    end\n",
        "    value += f[l]/n\n",
        "    return P[i], value, i\n",
        "end\n"
      ]
    },
    {
      "cell_type": "code",
      "execution_count": 66,
      "metadata": {},
      "outputs": [
        {
          "data": {
            "text/plain": [
              "5"
            ]
          },
          "metadata": {},
          "output_type": "display_data"
        }
      ],
      "source": [
        "v1 = 1 .* ones(2)\n",
        "v2 = 2 .* ones(2)\n",
        "v3 = 3 .* ones(2)\n",
        "v4 = 4 .* ones(2)\n",
        "v5 = 5 .* ones(2)\n",
        "P = [v1,v2,v3,v4,v5]\n",
        "f = [1,2,3,4,5]\n",
        "n = 5\n",
        "\n",
        "# precalculo que solo hace falta hacerlo una vez cada n individuos seleccionados\n",
        "l = length(f)\n",
        "if f == ones(l)\n",
        "    f = ones(l)\n",
        "end\n",
        "for i in 2:l # convierto f en un vector distribucional\n",
        "    f[i] += f[i-1]\n",
        "end\n",
        "value = rand() * f[l]/n\n",
        "i = 1\n",
        "\n",
        "for _ in 1:n\n",
        "    v, value, i = stochastic_universal_sampling(P, f, n, value, i)    \n",
        "    println(v)\n",
        "    println(value)\n",
        "    println(i)\n",
        "end"
      ]
    },
    {
      "cell_type": "code",
      "execution_count": 41,
      "metadata": {
        "id": "pKD4gasSyI1A"
      },
      "outputs": [
        {
          "data": {
            "text/plain": [
              "tournament_selecction (generic function with 2 methods)"
            ]
          },
          "metadata": {},
          "output_type": "display_data"
        }
      ],
      "source": [
        "#testeado\n",
        "function tournament_selecction(F, P, t)\n",
        "    best = rand(P)\n",
        "    for i in 2:t\n",
        "        next = rand(P)\n",
        "        if F(next) > F(best)\n",
        "            best = next\n",
        "        end\n",
        "    end\n",
        "    return best\n",
        "end"
      ]
    },
    {
      "cell_type": "markdown",
      "metadata": {},
      "source": [
        "## Algoritmos evolutivos"
      ]
    },
    {
      "cell_type": "code",
      "execution_count": 13,
      "metadata": {},
      "outputs": [
        {
          "data": {
            "text/plain": [
              "GA_1 (generic function with 1 method)"
            ]
          },
          "metadata": {},
          "output_type": "display_data"
        }
      ],
      "source": [
        "# (μ,λ) strategy con n genes\n",
        "# F mi funcion, μ la cantidad que sobreviven de cada generacion, λ el tamaño de mi poblacion, n la cantidad de genes\n",
        "function GA_1(F, μ, λ, p, σ2, δ, n; max_iter = 10000, ϵ = 1e-8)\n",
        "    P = [rand(n) for i in 1:λ]\n",
        "    best = P[1]\n",
        "    valor_best = F(best)\n",
        "    iteracion = 1\n",
        "    variacion = 1\n",
        "    while (iteracion <= max_iter) && variacion > ϵ\n",
        "        variacion = valor_best\n",
        "        for p in P\n",
        "            valor_p = F(p)\n",
        "            if valor_p > valor_best\n",
        "                best = p\n",
        "                valor_best = valor_p\n",
        "            end\n",
        "        end\n",
        "        variacion = abs(variacion-valor_best)\n",
        "        Q = sort(P, by=F, rev=true)[1:μ]\n",
        "        P = []\n",
        "        for q in Q\n",
        "            for i in 1:(λ/μ)\n",
        "                push!(P,gaussian_convolution(q, p, σ2, δ))\n",
        "            end\n",
        "        end\n",
        "        iteracion += 1\n",
        "    end\n",
        "    return valor_best, best, iteracion, variacion\n",
        "end"
      ]
    },
    {
      "cell_type": "code",
      "execution_count": 14,
      "metadata": {},
      "outputs": [
        {
          "data": {
            "text/plain": [
              "(8.76635467365866, [0.8152105402961077, -0.25849279766506605], 3, 0.0)"
            ]
          },
          "metadata": {},
          "output_type": "display_data"
        }
      ],
      "source": [
        "# test del algoritmo de arriba\n",
        "F(x) = 5sin(x[1]) + 5cos(x[2]) - 0.1(x[1])^2 - 0.1(x[2])^2 \n",
        "μ = 5\n",
        "λ = 25\n",
        "p = 0.3\n",
        "σ2 = 0.5\n",
        "δ = 0.1\n",
        "n = 2\n",
        "GA_1(F, μ, λ, p, σ2, δ, n)"
      ]
    },
    {
      "cell_type": "code",
      "execution_count": 15,
      "metadata": {},
      "outputs": [
        {
          "data": {
            "text/plain": [
              "GA_2 (generic function with 1 method)"
            ]
          },
          "metadata": {},
          "output_type": "display_data"
        }
      ],
      "source": [
        "# μ+λ strategy con n genes\n",
        "# F mi funcion, μ la cantidad que sobreviven de cada generacion, λ el tamaño de mi poblacion, n la cantidad de genes\n",
        "function GA_2(F, μ, λ, p, σ2, δ, n; max_iter = 10000, ϵ = 1e-8)\n",
        "    P = [rand(n) for i in 1:λ]\n",
        "    best = P[1]\n",
        "    valor_best = F(best)\n",
        "    iteracion = 1\n",
        "    variacion = 1\n",
        "    while (iteracion <= max_iter) && variacion > ϵ\n",
        "        variacion = valor_best\n",
        "        for p in P\n",
        "            valor_p = F(p)\n",
        "            if valor_p > valor_best\n",
        "                best = p\n",
        "                valor_best = valor_p\n",
        "            end\n",
        "        end\n",
        "        variacion = abs(variacion-valor_best)\n",
        "        Q = sort(P, by=F, rev=true)[1:μ]\n",
        "        P = copy(Q)\n",
        "        for q in Q\n",
        "            for i in 1:(λ/μ)\n",
        "                push!(P,gaussian_convolution(q, p, σ2, δ))\n",
        "            end\n",
        "        end\n",
        "        iteracion += 1\n",
        "    end\n",
        "    return valor_best, best, iteracion, variacion\n",
        "end"
      ]
    },
    {
      "cell_type": "code",
      "execution_count": 16,
      "metadata": {},
      "outputs": [
        {
          "data": {
            "text/plain": [
              "(8.717955081023069, [0.852640388675767, 0.19894886727493655], 2, 0.0)"
            ]
          },
          "metadata": {},
          "output_type": "display_data"
        }
      ],
      "source": [
        "# test del algoritmo de arriba\n",
        "F(x) = 5sin(x[1]) + 5cos(x[2]) - 0.1(x[1])^2 - 0.1(x[2])^2 \n",
        "μ = 5\n",
        "λ = 25\n",
        "p = 0.7\n",
        "σ2 = 0.5\n",
        "δ = 0.1\n",
        "n = 2\n",
        "GA_2(F, μ, λ, p, σ2, δ, n)"
      ]
    },
    {
      "cell_type": "markdown",
      "metadata": {},
      "source": [
        "## Algoritmo Genetico"
      ]
    },
    {
      "cell_type": "code",
      "execution_count": 23,
      "metadata": {},
      "outputs": [
        {
          "data": {
            "text/plain": [
              "GA_3 (generic function with 1 method)"
            ]
          },
          "metadata": {},
          "output_type": "display_data"
        }
      ],
      "source": [
        "function GA_3(F, popsize, p, σ2, δ, n; max_iter = 10000, ϵ = 1e-8)\n",
        "    P = [rand(n) for i in 1:popsize]\n",
        "    best = P[1]\n",
        "    valor_best = F(best)\n",
        "    iteracion = 1\n",
        "    variacion = 1\n",
        "    while (iteracion <= max_iter) && variacion > ϵ\n",
        "        variacion = valor_best\n",
        "        for p in P\n",
        "            valor_p = F(p)\n",
        "            if valor_p > valor_best\n",
        "                best = p\n",
        "                valor_best = valor_p\n",
        "            end\n",
        "        end\n",
        "        variacion = abs(variacion-valor_best)\n",
        "        Q = []\n",
        "        for i in 1:popsize/2\n",
        "            Pa = rand(P)\n",
        "            Pb = rand(P)\n",
        "            child_a, child_b = one_point_crossover(Pa, Pb)\n",
        "            push!(Q,gaussian_convolution(child_a, p, σ2, δ))\n",
        "            push!(Q,gaussian_convolution(child_b, p, σ2, δ))\n",
        "        end\n",
        "        # one-fifth rule para ir cambiando el σ2\n",
        "        porcentaje = sum(F(Q[i]) > F(P[i]) for i in 1:popsize)/popsize\n",
        "        if porcentaje > 0.2\n",
        "            σ2 = σ2 * 2\n",
        "        elseif porcentaje < 0.2\n",
        "            σ2 = σ2 / 1.1\n",
        "        end\n",
        "        P = Q\n",
        "        iteracion += 1\n",
        "    end\n",
        "    return valor_best, best, iteracion, variacion\n",
        "end"
      ]
    },
    {
      "cell_type": "code",
      "execution_count": 39,
      "metadata": {},
      "outputs": [
        {
          "data": {
            "text/plain": [
              "(9.103601775249304, [0.7187798723342739, 0.7602707043649473], 3, 0.0)"
            ]
          },
          "metadata": {},
          "output_type": "display_data"
        }
      ],
      "source": [
        "# test del algoritmo de arriba\n",
        "F(x) = 5sin(x[1]) + 5cos(x[2]) - 0.1(x[1])^2 - 0.1(x[2])^2 \n",
        "popsize = 30\n",
        "p = 0.7\n",
        "σ2 = 0.5\n",
        "δ = 0.2\n",
        "n = 2\n",
        "GA_3(F, popsize, p, σ2, δ, n)"
      ]
    },
    {
      "cell_type": "markdown",
      "metadata": {},
      "source": [
        "## Variantes"
      ]
    },
    {
      "cell_type": "code",
      "execution_count": null,
      "metadata": {},
      "outputs": [],
      "source": []
    },
    {
      "cell_type": "markdown",
      "metadata": {},
      "source": [
        "Luego las variantes del algoritmo genetico"
      ]
    }
  ],
  "metadata": {
    "colab": {
      "provenance": []
    },
    "kernelspec": {
      "display_name": "Julia 1.10.0",
      "language": "julia",
      "name": "julia-1.10"
    },
    "language_info": {
      "file_extension": ".jl",
      "mimetype": "application/julia",
      "name": "julia",
      "version": "1.10.0"
    }
  },
  "nbformat": 4,
  "nbformat_minor": 0
}
